{
 "cells": [
  {
   "cell_type": "code",
   "execution_count": 1,
   "metadata": {},
   "outputs": [],
   "source": [
    "import forecast_engine.preprocess.nodes as preprocess\n",
    "import pandas as pd\n",
    "import forecast_engine.modelling.utils.nodes as utils\n",
    "import warnings\n",
    "warnings.filterwarnings(\"ignore\")"
   ]
  },
  {
   "cell_type": "markdown",
   "metadata": {},
   "source": [
    "Sales Order"
   ]
  },
  {
   "cell_type": "code",
   "execution_count": 2,
   "metadata": {},
   "outputs": [],
   "source": [
    "path = r\"/Users/anand_k/Downloads/UPL/Demand forecasting datasets [DO NOT EDIT]/Sales order\"\n",
    "sales_data, df = preprocess.read_prep_sales_order(path)\n",
    "dates, act_dates = preprocess.prep_dates_list(df)\n",
    "sub_season = [str(x)+'_Season' for x in dates]\n",
    "df[sub_season] = df.apply( lambda x : preprocess.decomposition(x,dates,df.columns), axis = 1, result_type=\"expand\")\n",
    "df['intermittence'] = df.apply(lambda x : preprocess.intermittence(x), axis =1)\n",
    "df['cov'] = df[dates].apply(lambda x : preprocess.cov(x), axis =1)\n",
    "df['seq - flag'] = df.apply(lambda x : preprocess.seq_flag(x,dates,df.columns) , axis = 1)"
   ]
  },
  {
   "cell_type": "markdown",
   "metadata": {},
   "source": [
    "Weather"
   ]
  },
  {
   "cell_type": "code",
   "execution_count": 6,
   "metadata": {},
   "outputs": [],
   "source": [
    "path = r\"/Users/anand_k/Downloads/UPL/Demand forecasting datasets [DO NOT EDIT]/Weather Data/Weather Data.xlsx\"\n",
    "wthr_data = preprocess.read_prep_weather(path)"
   ]
  },
  {
   "cell_type": "markdown",
   "metadata": {},
   "source": [
    "Macro"
   ]
  },
  {
   "cell_type": "code",
   "execution_count": 7,
   "metadata": {},
   "outputs": [],
   "source": [
    "path = r\"/Users/anand_k/Downloads/UPL/Demand forecasting datasets [DO NOT EDIT]/Macro-economics\"\n",
    "macro = preprocess.read_macro_files(path, country = ['Mexico'])"
   ]
  },
  {
   "cell_type": "code",
   "execution_count": 8,
   "metadata": {},
   "outputs": [],
   "source": [
    "df['Country'] = 'Mexico'\n",
    "data = pd.merge(df, macro, on = 'Country', how = 'left')\n",
    "data = pd.merge(data, wthr_data, on = 'Country', how = 'left')\n",
    "data.drop('Country',axis=1,inplace=True)\n",
    "data.rename(columns={'Material':'index'},inplace=True)\n",
    "data.columns = [str(i) for i in list(data.columns) ]\n",
    "    "
   ]
  },
  {
   "cell_type": "code",
   "execution_count": 9,
   "metadata": {},
   "outputs": [
    {
     "data": {
      "text/plain": [
       "index            U00000000006030126\n",
       "intermittence                   0.0\n",
       "cov                        0.798933\n",
       "Name: 474, dtype: object"
      ]
     },
     "execution_count": 9,
     "metadata": {},
     "output_type": "execute_result"
    }
   ],
   "source": [
    "ti = data[data['index']=='U00000000006030126'].squeeze(axis=0)\n",
    "from pandas import MultiIndex\n",
    "import datetime \n",
    "single_series = 0\n",
    "ts1 = datetime.datetime.now().timestamp()\n",
    "if (single_series == 0):\n",
    "  ti = pd.Series(ti)\n",
    "series_key = str(ti['index'])\n",
    "ti1, ti_key, variable_list, series_flag = utils.get_ti_in_shape(ti.copy())\n",
    "ti = ti1.copy()\n",
    "ts2 = datetime.datetime.now().timestamp()\n",
    "ti=ti1.copy()\n",
    "ti = ti[2:]\n",
    "ti['Material'] = ti_key[0]\n",
    "ti['seq - flag'] = series_flag\n",
    "ti['key'] = ti['Material'] +\"_\"+ ti['Header']\n",
    "ti_key"
   ]
  },
  {
   "cell_type": "markdown",
   "metadata": {},
   "source": [
    "Inventory"
   ]
  },
  {
   "cell_type": "code",
   "execution_count": 228,
   "metadata": {},
   "outputs": [
    {
     "name": "stdout",
     "output_type": "stream",
     "text": [
      "LA0005 Inventory FY21-22.xlsx,(923, 30)\n",
      "LA0005 Inventory FY22-23.xlsx,(5808, 6)\n",
      "LA0005 Inventory FY19-20.xlsx,(9408, 6)\n",
      "LA0005 Inventory FY18-19.xlsx,(4080, 6)\n",
      "LA0005 Inventory FY20-21.xlsx,(12372, 6)\n"
     ]
    }
   ],
   "source": [
    "path = r\"/Users/anand_k/Downloads/UPL/Demand forecasting datasets [DO NOT EDIT]/Inventory data\"\n",
    "inventories = preprocess.read_process_inventories(path)"
   ]
  },
  {
   "cell_type": "code",
   "execution_count": 229,
   "metadata": {},
   "outputs": [],
   "source": [
    "inventories\n",
    "df_in = pd.DataFrame(columns=['Material','date','Qty Total\\nStock','Total Stk Value','year','month','version','key','qty lag 1','val lag 1', 'qty lag 2','val lag 2'])\n",
    "for i in list(inventories['Material'].unique()):\n",
    "    df = inventories[inventories['Material']==i]\n",
    "    df['qty lag 1'] = df['Qty Total\\nStock'].shift(1)\n",
    "    df['val lag 1'] = df['Total Stk Value'].shift(1)\n",
    "    df['qty lag 2'] = df['Qty Total\\nStock'].shift(2)\n",
    "    df['val lag 2'] = df['Total Stk Value'].shift(2)\n",
    "    df_in = pd.concat([df_in,df])\n",
    "df_in = df_in.reset_index(drop=True)    \n",
    "df_in.to_csv('inventories.csv')"
   ]
  },
  {
   "cell_type": "code",
   "execution_count": 225,
   "metadata": {},
   "outputs": [],
   "source": []
  },
  {
   "cell_type": "code",
   "execution_count": 227,
   "metadata": {},
   "outputs": [],
   "source": []
  },
  {
   "cell_type": "markdown",
   "metadata": {},
   "source": [
    "Transaction"
   ]
  },
  {
   "cell_type": "code",
   "execution_count": 166,
   "metadata": {},
   "outputs": [],
   "source": [
    "path = r\"/Users/anand_k/Downloads/UPL/Demand forecasting datasets [DO NOT EDIT]/Transaction data/\"\n",
    "trans = preprocess.read_process_trans(path)"
   ]
  },
  {
   "cell_type": "markdown",
   "metadata": {},
   "source": [
    "Customer Master"
   ]
  },
  {
   "cell_type": "code",
   "execution_count": 12,
   "metadata": {},
   "outputs": [],
   "source": [
    "path = r\"/Users/anand_k/Downloads/UPL/Demand forecasting datasets [DO NOT EDIT]/Customer Data/Customer_data_All.xlsx\"\n",
    "customer = pd.read_excel(path, sheet_name='Sheet1')\n",
    "customer = customer[['Customer','Domestic vs Export']].drop_duplicates()"
   ]
  },
  {
   "cell_type": "markdown",
   "metadata": {},
   "source": [
    "Crop Seasonality"
   ]
  },
  {
   "cell_type": "code",
   "execution_count": 4,
   "metadata": {},
   "outputs": [],
   "source": [
    "#TODO: Prepare the crop data and update the seasonality attribute"
   ]
  },
  {
   "cell_type": "code",
   "execution_count": null,
   "metadata": {},
   "outputs": [],
   "source": []
  },
  {
   "cell_type": "markdown",
   "metadata": {},
   "source": [
    "FEATURE TO CREATE"
   ]
  },
  {
   "cell_type": "code",
   "execution_count": 6,
   "metadata": {},
   "outputs": [],
   "source": [
    "# 1 Lag of prices - Done\n",
    "# 2 Number of days from order and delivery - Done\n",
    "# 3 Customer demand trend level shifts #TODO\n",
    "# 4 Customer region (for a material - year_month, where the order is coming from) - Done\n",
    "# 5 Average number of days diff to each region - Done\n",
    "# 6 Average sold quatity to each region - Done\n",
    "# 7 Change in quantity from previous month #TODO\n",
    "# 8 Change in quantity from previous 2 months #TODO\n",
    "# 9 Change in quantity from previous 3 months #TODO\n",
    "# 10 Seasonal crops - Needs more time #TODO\n",
    "# 11 Disruption flags - Done\n",
    "# 12 Inventory trend lag - Done\n",
    "# 13 Inventory seasonality - Done\n",
    "# 14 Quantity pending - Done\n",
    "\n",
    "\n",
    "# In 1 sales order a customer can buy multiple materials\n",
    "# Same custmor ID can have multiple sales order\n",
    "# sales order - material year-month customer\n"
   ]
  },
  {
   "cell_type": "code",
   "execution_count": 25,
   "metadata": {},
   "outputs": [
    {
     "data": {
      "text/plain": [
       "True"
      ]
     },
     "execution_count": 25,
     "metadata": {},
     "output_type": "execute_result"
    }
   ],
   "source": [
    "cus_sales = pd.merge(sales_data,customer.drop_duplicates(subset='Customer', keep=\"first\"),left_on='Bill-to party',right_on='Customer')\n",
    "sales_data.shape[0] == cus_sales.shape[0]"
   ]
  },
  {
   "cell_type": "code",
   "execution_count": 50,
   "metadata": {},
   "outputs": [
    {
     "data": {
      "text/html": [
       "<div>\n",
       "<style scoped>\n",
       "    .dataframe tbody tr th:only-of-type {\n",
       "        vertical-align: middle;\n",
       "    }\n",
       "\n",
       "    .dataframe tbody tr th {\n",
       "        vertical-align: top;\n",
       "    }\n",
       "\n",
       "    .dataframe thead th {\n",
       "        text-align: right;\n",
       "    }\n",
       "</style>\n",
       "<table border=\"1\" class=\"dataframe\">\n",
       "  <thead>\n",
       "    <tr style=\"text-align: right;\">\n",
       "      <th></th>\n",
       "      <th>Material</th>\n",
       "      <th>version</th>\n",
       "      <th>Arysta LifeScience</th>\n",
       "      <th>Exp Sales ALS Benelu</th>\n",
       "      <th>Exports ALS SAS</th>\n",
       "      <th>Exports Sales Org.</th>\n",
       "      <th>IT Export Sales</th>\n",
       "      <th>MX Domestic Sales</th>\n",
       "      <th>MX Export Sales</th>\n",
       "      <th>RiceCo International</th>\n",
       "      <th>USA Exports Sales</th>\n",
       "    </tr>\n",
       "  </thead>\n",
       "  <tbody>\n",
       "    <tr>\n",
       "      <th>0</th>\n",
       "      <td>U00000000000180123</td>\n",
       "      <td>2019 - 10</td>\n",
       "      <td>0.0</td>\n",
       "      <td>0.0</td>\n",
       "      <td>0.0</td>\n",
       "      <td>0.0</td>\n",
       "      <td>0.0</td>\n",
       "      <td>1.0</td>\n",
       "      <td>0.0</td>\n",
       "      <td>0.0</td>\n",
       "      <td>0.0</td>\n",
       "    </tr>\n",
       "    <tr>\n",
       "      <th>1</th>\n",
       "      <td>U00000000000180123</td>\n",
       "      <td>2020 - 02</td>\n",
       "      <td>0.0</td>\n",
       "      <td>0.0</td>\n",
       "      <td>0.0</td>\n",
       "      <td>0.0</td>\n",
       "      <td>0.0</td>\n",
       "      <td>1.0</td>\n",
       "      <td>0.0</td>\n",
       "      <td>0.0</td>\n",
       "      <td>0.0</td>\n",
       "    </tr>\n",
       "  </tbody>\n",
       "</table>\n",
       "</div>"
      ],
      "text/plain": [
       "             Material    version  Arysta LifeScience  Exp Sales ALS Benelu  \\\n",
       "0  U00000000000180123  2019 - 10                 0.0                   0.0   \n",
       "1  U00000000000180123  2020 - 02                 0.0                   0.0   \n",
       "\n",
       "   Exports ALS SAS  Exports Sales Org.  IT Export Sales  MX Domestic Sales  \\\n",
       "0              0.0                 0.0              0.0                1.0   \n",
       "1              0.0                 0.0              0.0                1.0   \n",
       "\n",
       "   MX Export Sales  RiceCo International  USA Exports Sales  \n",
       "0              0.0                   0.0                0.0  \n",
       "1              0.0                   0.0                0.0  "
      ]
     },
     "execution_count": 50,
     "metadata": {},
     "output_type": "execute_result"
    }
   ],
   "source": [
    "feature_4 = cus_sales.groupby(['Material','Domestic vs Export','version'])['Sales document'].size().reset_index().pivot(index=[\"Material\",'version'],columns='Domestic vs Export',values='Sales document').reset_index().rename_axis(None, axis=1).fillna(0)\n",
    "feature_4.head(2)\n",
    "\n",
    "#TODO metl & pivot"
   ]
  },
  {
   "cell_type": "code",
   "execution_count": 91,
   "metadata": {},
   "outputs": [
    {
     "data": {
      "text/html": [
       "<div>\n",
       "<style scoped>\n",
       "    .dataframe tbody tr th:only-of-type {\n",
       "        vertical-align: middle;\n",
       "    }\n",
       "\n",
       "    .dataframe tbody tr th {\n",
       "        vertical-align: top;\n",
       "    }\n",
       "\n",
       "    .dataframe thead th {\n",
       "        text-align: right;\n",
       "    }\n",
       "</style>\n",
       "<table border=\"1\" class=\"dataframe\">\n",
       "  <thead>\n",
       "    <tr style=\"text-align: right;\">\n",
       "      <th></th>\n",
       "      <th>Material</th>\n",
       "      <th>version</th>\n",
       "      <th>Arysta LifeScience</th>\n",
       "      <th>Exp Sales ALS Benelu</th>\n",
       "      <th>Exports ALS SAS</th>\n",
       "      <th>Exports Sales Org.</th>\n",
       "      <th>IT Export Sales</th>\n",
       "      <th>MX Domestic Sales</th>\n",
       "      <th>MX Export Sales</th>\n",
       "      <th>RiceCo International</th>\n",
       "      <th>USA Exports Sales</th>\n",
       "    </tr>\n",
       "  </thead>\n",
       "  <tbody>\n",
       "    <tr>\n",
       "      <th>0</th>\n",
       "      <td>U00000000000180123</td>\n",
       "      <td>2019 - 10</td>\n",
       "      <td>0.0</td>\n",
       "      <td>0.0</td>\n",
       "      <td>0.0</td>\n",
       "      <td>0.0</td>\n",
       "      <td>0.0</td>\n",
       "      <td>300.0</td>\n",
       "      <td>0.0</td>\n",
       "      <td>0.0</td>\n",
       "      <td>0.0</td>\n",
       "    </tr>\n",
       "    <tr>\n",
       "      <th>1</th>\n",
       "      <td>U00000000000180123</td>\n",
       "      <td>2020 - 02</td>\n",
       "      <td>0.0</td>\n",
       "      <td>0.0</td>\n",
       "      <td>0.0</td>\n",
       "      <td>0.0</td>\n",
       "      <td>0.0</td>\n",
       "      <td>100.0</td>\n",
       "      <td>0.0</td>\n",
       "      <td>0.0</td>\n",
       "      <td>0.0</td>\n",
       "    </tr>\n",
       "  </tbody>\n",
       "</table>\n",
       "</div>"
      ],
      "text/plain": [
       "             Material    version  Arysta LifeScience  Exp Sales ALS Benelu  \\\n",
       "0  U00000000000180123  2019 - 10                 0.0                   0.0   \n",
       "1  U00000000000180123  2020 - 02                 0.0                   0.0   \n",
       "\n",
       "   Exports ALS SAS  Exports Sales Org.  IT Export Sales  MX Domestic Sales  \\\n",
       "0              0.0                 0.0              0.0              300.0   \n",
       "1              0.0                 0.0              0.0              100.0   \n",
       "\n",
       "   MX Export Sales  RiceCo International  USA Exports Sales  \n",
       "0              0.0                   0.0                0.0  \n",
       "1              0.0                   0.0                0.0  "
      ]
     },
     "execution_count": 91,
     "metadata": {},
     "output_type": "execute_result"
    }
   ],
   "source": [
    "feature_6 = cus_sales.groupby(['Material','Domestic vs Export','version'])['Order Qty. (SU)'].sum().reset_index().pivot(index=[\"Material\",'version'],columns='Domestic vs Export',values='Order Qty. (SU)').reset_index().rename_axis(None, axis=1).fillna(0)\n",
    "feature_6.head(2)\n",
    "\n",
    "#TODO metl & pivot"
   ]
  },
  {
   "cell_type": "code",
   "execution_count": 167,
   "metadata": {},
   "outputs": [],
   "source": [
    "cus_sales['key'] = cus_sales['Material'].astype(str)  + cus_sales['Sales document'].astype(str)\n",
    "trans['key'] = trans['Product_ID_new'].astype(str) + trans['Sales Order Number'].astype(str)\n",
    "trans = trans.groupby(['key','Product_ID_new','version','Sales Order Number']).agg({'net_sales':'sum','Sales quantity':'sum'}).reset_index()\n",
    "trans_cus = pd.merge(trans, cus_sales,  how='left',on='key')\n",
    "trans_cus = trans_cus.dropna()\n",
    "trans_cus['delivery_date'] = trans_cus['version_x'].apply(lambda x: datetime.datetime.strptime(x, \"%Y - %m\").date() )\n",
    "trans_cus['requested_delivery_date'] = trans_cus['version_y'].apply(lambda x: datetime.datetime.strptime(x, \"%Y - %m\").date() )\n",
    "trans_cus['delay'] = trans_cus['requested_delivery_date'] - trans_cus['delivery_date']\n",
    "trans_cus['delay'] = trans_cus['delay'].astype(str).apply(lambda x : int(x.split(' ')[0]))\n",
    "trans_cus['quantity_pending'] = trans_cus['Sales quantity']-trans_cus['Order Qty. (SU)']"
   ]
  },
  {
   "cell_type": "code",
   "execution_count": 190,
   "metadata": {},
   "outputs": [
    {
     "data": {
      "text/html": [
       "<div>\n",
       "<style scoped>\n",
       "    .dataframe tbody tr th:only-of-type {\n",
       "        vertical-align: middle;\n",
       "    }\n",
       "\n",
       "    .dataframe tbody tr th {\n",
       "        vertical-align: top;\n",
       "    }\n",
       "\n",
       "    .dataframe thead th {\n",
       "        text-align: right;\n",
       "    }\n",
       "</style>\n",
       "<table border=\"1\" class=\"dataframe\">\n",
       "  <thead>\n",
       "    <tr style=\"text-align: right;\">\n",
       "      <th></th>\n",
       "      <th>Material</th>\n",
       "      <th>version_y</th>\n",
       "      <th>MX Domestic Sales</th>\n",
       "      <th>MX Export Sales</th>\n",
       "      <th>RiceCo International</th>\n",
       "    </tr>\n",
       "  </thead>\n",
       "  <tbody>\n",
       "    <tr>\n",
       "      <th>0</th>\n",
       "      <td>U00000000000180123</td>\n",
       "      <td>2019 - 10</td>\n",
       "      <td>-366.0</td>\n",
       "      <td>0.0</td>\n",
       "      <td>0.0</td>\n",
       "    </tr>\n",
       "    <tr>\n",
       "      <th>1</th>\n",
       "      <td>U00000000000180123</td>\n",
       "      <td>2020 - 02</td>\n",
       "      <td>-58.0</td>\n",
       "      <td>0.0</td>\n",
       "      <td>0.0</td>\n",
       "    </tr>\n",
       "  </tbody>\n",
       "</table>\n",
       "</div>"
      ],
      "text/plain": [
       "             Material  version_y  MX Domestic Sales  MX Export Sales  \\\n",
       "0  U00000000000180123  2019 - 10             -366.0              0.0   \n",
       "1  U00000000000180123  2020 - 02              -58.0              0.0   \n",
       "\n",
       "   RiceCo International  \n",
       "0                   0.0  \n",
       "1                   0.0  "
      ]
     },
     "execution_count": 190,
     "metadata": {},
     "output_type": "execute_result"
    }
   ],
   "source": [
    "feature_5 = trans_cus.groupby(['Material','Domestic vs Export','version_y'])['delay'].sum().reset_index().pivot(index=[\"Material\",'version_y'],columns='Domestic vs Export',values='delay').reset_index().rename_axis(None, axis=1).fillna(0)\n",
    "feature_5.head(2)\n",
    "\n",
    "#TODO metl & pivot"
   ]
  },
  {
   "cell_type": "code",
   "execution_count": 200,
   "metadata": {},
   "outputs": [
    {
     "data": {
      "text/html": [
       "<div>\n",
       "<style scoped>\n",
       "    .dataframe tbody tr th:only-of-type {\n",
       "        vertical-align: middle;\n",
       "    }\n",
       "\n",
       "    .dataframe tbody tr th {\n",
       "        vertical-align: top;\n",
       "    }\n",
       "\n",
       "    .dataframe thead th {\n",
       "        text-align: right;\n",
       "    }\n",
       "</style>\n",
       "<table border=\"1\" class=\"dataframe\">\n",
       "  <thead>\n",
       "    <tr style=\"text-align: right;\">\n",
       "      <th></th>\n",
       "      <th>Material</th>\n",
       "      <th>version_y</th>\n",
       "      <th>MX Domestic Sales</th>\n",
       "      <th>MX Export Sales</th>\n",
       "      <th>RiceCo International</th>\n",
       "    </tr>\n",
       "  </thead>\n",
       "  <tbody>\n",
       "    <tr>\n",
       "      <th>0</th>\n",
       "      <td>U00000000000180123</td>\n",
       "      <td>2019 - 10</td>\n",
       "      <td>-300.0</td>\n",
       "      <td>0.0</td>\n",
       "      <td>0.0</td>\n",
       "    </tr>\n",
       "    <tr>\n",
       "      <th>1</th>\n",
       "      <td>U00000000000180123</td>\n",
       "      <td>2020 - 02</td>\n",
       "      <td>-100.0</td>\n",
       "      <td>0.0</td>\n",
       "      <td>0.0</td>\n",
       "    </tr>\n",
       "  </tbody>\n",
       "</table>\n",
       "</div>"
      ],
      "text/plain": [
       "             Material  version_y  MX Domestic Sales  MX Export Sales  \\\n",
       "0  U00000000000180123  2019 - 10             -300.0              0.0   \n",
       "1  U00000000000180123  2020 - 02             -100.0              0.0   \n",
       "\n",
       "   RiceCo International  \n",
       "0                   0.0  \n",
       "1                   0.0  "
      ]
     },
     "execution_count": 200,
     "metadata": {},
     "output_type": "execute_result"
    }
   ],
   "source": [
    "feature_14 = trans_cus.groupby(['Material','Domestic vs Export','version_y'])['quantity_pending'].sum().reset_index().pivot(index=[\"Material\",'version_y'],columns='Domestic vs Export',values='quantity_pending').reset_index().rename_axis(None, axis=1).fillna(0)\n",
    "feature_14.head(2)\n",
    "\n",
    "#TODO metl & pivot"
   ]
  },
  {
   "cell_type": "code",
   "execution_count": 201,
   "metadata": {},
   "outputs": [
    {
     "data": {
      "text/html": [
       "<div>\n",
       "<style scoped>\n",
       "    .dataframe tbody tr th:only-of-type {\n",
       "        vertical-align: middle;\n",
       "    }\n",
       "\n",
       "    .dataframe tbody tr th {\n",
       "        vertical-align: top;\n",
       "    }\n",
       "\n",
       "    .dataframe thead th {\n",
       "        text-align: right;\n",
       "    }\n",
       "</style>\n",
       "<table border=\"1\" class=\"dataframe\">\n",
       "  <thead>\n",
       "    <tr style=\"text-align: right;\">\n",
       "      <th></th>\n",
       "      <th>Material</th>\n",
       "      <th>version_y</th>\n",
       "      <th>delay</th>\n",
       "    </tr>\n",
       "  </thead>\n",
       "  <tbody>\n",
       "    <tr>\n",
       "      <th>0</th>\n",
       "      <td>U00000000000180123</td>\n",
       "      <td>2019 - 10</td>\n",
       "      <td>-366</td>\n",
       "    </tr>\n",
       "    <tr>\n",
       "      <th>1</th>\n",
       "      <td>U00000000000180123</td>\n",
       "      <td>2020 - 02</td>\n",
       "      <td>-58</td>\n",
       "    </tr>\n",
       "  </tbody>\n",
       "</table>\n",
       "</div>"
      ],
      "text/plain": [
       "             Material  version_y  delay\n",
       "0  U00000000000180123  2019 - 10   -366\n",
       "1  U00000000000180123  2020 - 02    -58"
      ]
     },
     "execution_count": 201,
     "metadata": {},
     "output_type": "execute_result"
    }
   ],
   "source": [
    "feature_2 = trans_cus.groupby(['Material','version_y'])['delay'].sum().reset_index()\n",
    "feature_2.head(2)\n",
    "\n",
    "#TODO metl & pivot"
   ]
  },
  {
   "cell_type": "code",
   "execution_count": 216,
   "metadata": {},
   "outputs": [
    {
     "data": {
      "text/html": [
       "<div>\n",
       "<style scoped>\n",
       "    .dataframe tbody tr th:only-of-type {\n",
       "        vertical-align: middle;\n",
       "    }\n",
       "\n",
       "    .dataframe tbody tr th {\n",
       "        vertical-align: top;\n",
       "    }\n",
       "\n",
       "    .dataframe thead th {\n",
       "        text-align: right;\n",
       "    }\n",
       "</style>\n",
       "<table border=\"1\" class=\"dataframe\">\n",
       "  <thead>\n",
       "    <tr style=\"text-align: right;\">\n",
       "      <th></th>\n",
       "      <th>Product_ID_new</th>\n",
       "      <th>version</th>\n",
       "      <th>price</th>\n",
       "    </tr>\n",
       "  </thead>\n",
       "  <tbody>\n",
       "    <tr>\n",
       "      <th>0</th>\n",
       "      <td>U00000000000180123</td>\n",
       "      <td>2020 - 03</td>\n",
       "      <td>34.803701</td>\n",
       "    </tr>\n",
       "    <tr>\n",
       "      <th>1</th>\n",
       "      <td>U00000000000180123</td>\n",
       "      <td>2020 - 04</td>\n",
       "      <td>0.010851</td>\n",
       "    </tr>\n",
       "  </tbody>\n",
       "</table>\n",
       "</div>"
      ],
      "text/plain": [
       "       Product_ID_new    version      price\n",
       "0  U00000000000180123  2020 - 03  34.803701\n",
       "1  U00000000000180123  2020 - 04   0.010851"
      ]
     },
     "execution_count": 216,
     "metadata": {},
     "output_type": "execute_result"
    }
   ],
   "source": [
    "trans['price'] = trans['net_sales']/trans_cus['Sales quantity']\n",
    "feature_1 = trans.groupby(['Product_ID_new','version'])['price'].mean().reset_index()\n",
    "feature_1.head(2)\n",
    "\n",
    "#TODO metl & pivot"
   ]
  },
  {
   "cell_type": "code",
   "execution_count": null,
   "metadata": {},
   "outputs": [],
   "source": []
  },
  {
   "cell_type": "code",
   "execution_count": null,
   "metadata": {},
   "outputs": [],
   "source": [
    "sub_season = [str(x)+'_Season' for x in dates]\n",
    "df[sub_season] = df.apply( lambda x : preprocess.decomposition(x,dates,df.columns), axis = 1, result_type=\"expand\")"
   ]
  },
  {
   "cell_type": "code",
   "execution_count": 218,
   "metadata": {},
   "outputs": [
    {
     "data": {
      "text/html": [
       "<div>\n",
       "<style scoped>\n",
       "    .dataframe tbody tr th:only-of-type {\n",
       "        vertical-align: middle;\n",
       "    }\n",
       "\n",
       "    .dataframe tbody tr th {\n",
       "        vertical-align: top;\n",
       "    }\n",
       "\n",
       "    .dataframe thead th {\n",
       "        text-align: right;\n",
       "    }\n",
       "</style>\n",
       "<table border=\"1\" class=\"dataframe\">\n",
       "  <thead>\n",
       "    <tr style=\"text-align: right;\">\n",
       "      <th></th>\n",
       "      <th>Material</th>\n",
       "      <th>date</th>\n",
       "      <th>Qty Total\\nStock</th>\n",
       "      <th>Total Stk Value</th>\n",
       "      <th>year</th>\n",
       "      <th>month</th>\n",
       "      <th>version</th>\n",
       "      <th>key</th>\n",
       "    </tr>\n",
       "  </thead>\n",
       "  <tbody>\n",
       "    <tr>\n",
       "      <th>0</th>\n",
       "      <td>U00000000000368011</td>\n",
       "      <td>01.2022</td>\n",
       "      <td>506.0</td>\n",
       "      <td>121571.56</td>\n",
       "      <td>2022</td>\n",
       "      <td>01</td>\n",
       "      <td>2022 - 01</td>\n",
       "      <td>U00000000000368011_2022 - 01</td>\n",
       "    </tr>\n",
       "    <tr>\n",
       "      <th>1</th>\n",
       "      <td>U00000000000368011</td>\n",
       "      <td>02.2022</td>\n",
       "      <td>506.0</td>\n",
       "      <td>121728.42</td>\n",
       "      <td>2022</td>\n",
       "      <td>02</td>\n",
       "      <td>2022 - 02</td>\n",
       "      <td>U00000000000368011_2022 - 02</td>\n",
       "    </tr>\n",
       "    <tr>\n",
       "      <th>2</th>\n",
       "      <td>U00000000000368011</td>\n",
       "      <td>03.2022</td>\n",
       "      <td>203.0</td>\n",
       "      <td>48845.86</td>\n",
       "      <td>2022</td>\n",
       "      <td>03</td>\n",
       "      <td>2022 - 03</td>\n",
       "      <td>U00000000000368011_2022 - 03</td>\n",
       "    </tr>\n",
       "    <tr>\n",
       "      <th>3</th>\n",
       "      <td>U00000000000368011</td>\n",
       "      <td>04.2021</td>\n",
       "      <td>436.0</td>\n",
       "      <td>110478.04</td>\n",
       "      <td>2021</td>\n",
       "      <td>04</td>\n",
       "      <td>2021 - 04</td>\n",
       "      <td>U00000000000368011_2021 - 04</td>\n",
       "    </tr>\n",
       "    <tr>\n",
       "      <th>4</th>\n",
       "      <td>U00000000000368011</td>\n",
       "      <td>05.2021</td>\n",
       "      <td>436.0</td>\n",
       "      <td>110478.04</td>\n",
       "      <td>2021</td>\n",
       "      <td>05</td>\n",
       "      <td>2021 - 05</td>\n",
       "      <td>U00000000000368011_2021 - 05</td>\n",
       "    </tr>\n",
       "    <tr>\n",
       "      <th>...</th>\n",
       "      <td>...</td>\n",
       "      <td>...</td>\n",
       "      <td>...</td>\n",
       "      <td>...</td>\n",
       "      <td>...</td>\n",
       "      <td>...</td>\n",
       "      <td>...</td>\n",
       "      <td>...</td>\n",
       "    </tr>\n",
       "    <tr>\n",
       "      <th>12367</th>\n",
       "      <td>U00000000006641386</td>\n",
       "      <td>08.2020</td>\n",
       "      <td>0.0</td>\n",
       "      <td>0.00</td>\n",
       "      <td>2020</td>\n",
       "      <td>08</td>\n",
       "      <td>2020 - 08</td>\n",
       "      <td>U00000000006641386_2020 - 08</td>\n",
       "    </tr>\n",
       "    <tr>\n",
       "      <th>12368</th>\n",
       "      <td>U00000000006641386</td>\n",
       "      <td>09.2020</td>\n",
       "      <td>0.0</td>\n",
       "      <td>0.00</td>\n",
       "      <td>2020</td>\n",
       "      <td>09</td>\n",
       "      <td>2020 - 09</td>\n",
       "      <td>U00000000006641386_2020 - 09</td>\n",
       "    </tr>\n",
       "    <tr>\n",
       "      <th>12369</th>\n",
       "      <td>U00000000006641386</td>\n",
       "      <td>10.2020</td>\n",
       "      <td>0.0</td>\n",
       "      <td>0.00</td>\n",
       "      <td>2020</td>\n",
       "      <td>10</td>\n",
       "      <td>2020 - 10</td>\n",
       "      <td>U00000000006641386_2020 - 10</td>\n",
       "    </tr>\n",
       "    <tr>\n",
       "      <th>12370</th>\n",
       "      <td>U00000000006641386</td>\n",
       "      <td>11.2020</td>\n",
       "      <td>0.0</td>\n",
       "      <td>0.00</td>\n",
       "      <td>2020</td>\n",
       "      <td>11</td>\n",
       "      <td>2020 - 11</td>\n",
       "      <td>U00000000006641386_2020 - 11</td>\n",
       "    </tr>\n",
       "    <tr>\n",
       "      <th>12371</th>\n",
       "      <td>U00000000006641386</td>\n",
       "      <td>12.2020</td>\n",
       "      <td>0.0</td>\n",
       "      <td>0.00</td>\n",
       "      <td>2020</td>\n",
       "      <td>12</td>\n",
       "      <td>2020 - 12</td>\n",
       "      <td>U00000000006641386_2020 - 12</td>\n",
       "    </tr>\n",
       "  </tbody>\n",
       "</table>\n",
       "<p>41328 rows × 8 columns</p>\n",
       "</div>"
      ],
      "text/plain": [
       "                 Material     date  Qty Total\\nStock  Total Stk Value  year  \\\n",
       "0      U00000000000368011  01.2022             506.0        121571.56  2022   \n",
       "1      U00000000000368011  02.2022             506.0        121728.42  2022   \n",
       "2      U00000000000368011  03.2022             203.0         48845.86  2022   \n",
       "3      U00000000000368011  04.2021             436.0        110478.04  2021   \n",
       "4      U00000000000368011  05.2021             436.0        110478.04  2021   \n",
       "...                   ...      ...               ...              ...   ...   \n",
       "12367  U00000000006641386  08.2020               0.0             0.00  2020   \n",
       "12368  U00000000006641386  09.2020               0.0             0.00  2020   \n",
       "12369  U00000000006641386  10.2020               0.0             0.00  2020   \n",
       "12370  U00000000006641386  11.2020               0.0             0.00  2020   \n",
       "12371  U00000000006641386  12.2020               0.0             0.00  2020   \n",
       "\n",
       "      month    version                           key  \n",
       "0        01  2022 - 01  U00000000000368011_2022 - 01  \n",
       "1        02  2022 - 02  U00000000000368011_2022 - 02  \n",
       "2        03  2022 - 03  U00000000000368011_2022 - 03  \n",
       "3        04  2021 - 04  U00000000000368011_2021 - 04  \n",
       "4        05  2021 - 05  U00000000000368011_2021 - 05  \n",
       "...     ...        ...                           ...  \n",
       "12367    08  2020 - 08  U00000000006641386_2020 - 08  \n",
       "12368    09  2020 - 09  U00000000006641386_2020 - 09  \n",
       "12369    10  2020 - 10  U00000000006641386_2020 - 10  \n",
       "12370    11  2020 - 11  U00000000006641386_2020 - 11  \n",
       "12371    12  2020 - 12  U00000000006641386_2020 - 12  \n",
       "\n",
       "[41328 rows x 8 columns]"
      ]
     },
     "execution_count": 218,
     "metadata": {},
     "output_type": "execute_result"
    }
   ],
   "source": [
    "inventories"
   ]
  },
  {
   "cell_type": "code",
   "execution_count": null,
   "metadata": {},
   "outputs": [],
   "source": []
  },
  {
   "cell_type": "code",
   "execution_count": null,
   "metadata": {},
   "outputs": [],
   "source": []
  },
  {
   "cell_type": "code",
   "execution_count": null,
   "metadata": {},
   "outputs": [],
   "source": []
  },
  {
   "cell_type": "code",
   "execution_count": null,
   "metadata": {},
   "outputs": [],
   "source": []
  },
  {
   "cell_type": "code",
   "execution_count": null,
   "metadata": {},
   "outputs": [],
   "source": []
  },
  {
   "cell_type": "code",
   "execution_count": null,
   "metadata": {},
   "outputs": [],
   "source": []
  },
  {
   "cell_type": "code",
   "execution_count": null,
   "metadata": {},
   "outputs": [],
   "source": []
  },
  {
   "cell_type": "code",
   "execution_count": null,
   "metadata": {},
   "outputs": [],
   "source": []
  },
  {
   "cell_type": "code",
   "execution_count": null,
   "metadata": {},
   "outputs": [],
   "source": []
  },
  {
   "cell_type": "code",
   "execution_count": null,
   "metadata": {},
   "outputs": [],
   "source": []
  },
  {
   "cell_type": "markdown",
   "metadata": {},
   "source": [
    "TEST AT SKU LEVEL"
   ]
  },
  {
   "cell_type": "code",
   "execution_count": 14,
   "metadata": {},
   "outputs": [
    {
     "data": {
      "text/html": [
       "<div>\n",
       "<style scoped>\n",
       "    .dataframe tbody tr th:only-of-type {\n",
       "        vertical-align: middle;\n",
       "    }\n",
       "\n",
       "    .dataframe tbody tr th {\n",
       "        vertical-align: top;\n",
       "    }\n",
       "\n",
       "    .dataframe thead th {\n",
       "        text-align: right;\n",
       "    }\n",
       "</style>\n",
       "<table border=\"1\" class=\"dataframe\">\n",
       "  <thead>\n",
       "    <tr style=\"text-align: right;\">\n",
       "      <th></th>\n",
       "      <th>Header</th>\n",
       "      <th>Value</th>\n",
       "      <th>Avg Temp (C)</th>\n",
       "      <th>Inflation Data</th>\n",
       "      <th>Lending Rate</th>\n",
       "      <th>Max Temp (C)</th>\n",
       "      <th>Min Temp (C)</th>\n",
       "      <th>Precipitation (mm)</th>\n",
       "      <th>Relative Humidity (%)</th>\n",
       "      <th>Season</th>\n",
       "      <th>Material</th>\n",
       "      <th>seq - flag</th>\n",
       "      <th>key</th>\n",
       "    </tr>\n",
       "  </thead>\n",
       "  <tbody>\n",
       "    <tr>\n",
       "      <th>0</th>\n",
       "      <td>2019 - 03</td>\n",
       "      <td>36.0</td>\n",
       "      <td>18.93809</td>\n",
       "      <td>0.04</td>\n",
       "      <td>0.08</td>\n",
       "      <td>30.07366</td>\n",
       "      <td>8.201843</td>\n",
       "      <td>0.027016</td>\n",
       "      <td>55.501268</td>\n",
       "      <td>115.628355</td>\n",
       "      <td>U00000000006030126</td>\n",
       "      <td>1</td>\n",
       "      <td>U00000000006030126_2019 - 03</td>\n",
       "    </tr>\n",
       "  </tbody>\n",
       "</table>\n",
       "</div>"
      ],
      "text/plain": [
       "      Header Value Avg Temp (C) Inflation Data Lending Rate Max Temp (C)  \\\n",
       "0  2019 - 03  36.0     18.93809           0.04         0.08     30.07366   \n",
       "\n",
       "  Min Temp (C) Precipitation (mm) Relative Humidity (%)      Season  \\\n",
       "0     8.201843           0.027016             55.501268  115.628355   \n",
       "\n",
       "             Material  seq - flag                           key  \n",
       "0  U00000000006030126           1  U00000000006030126_2019 - 03  "
      ]
     },
     "execution_count": 14,
     "metadata": {},
     "output_type": "execute_result"
    }
   ],
   "source": [
    "ti.head(1)"
   ]
  },
  {
   "cell_type": "code",
   "execution_count": 27,
   "metadata": {},
   "outputs": [
    {
     "data": {
      "image/png": "[encoded data removed]",
      "text/plain": [
       "<Figure size 800x200 with 2 Axes>"
      ]
     },
     "metadata": {},
     "output_type": "display_data"
    },
    {
     "data": {
      "image/png": "[encoded data removed]",
      "text/plain": [
       "<Figure size 800x200 with 2 Axes>"
      ]
     },
     "metadata": {},
     "output_type": "display_data"
    },
    {
     "data": {
      "image/png": "[encoded data removed]",
      "text/plain": [
       "<Figure size 800x200 with 2 Axes>"
      ]
     },
     "metadata": {},
     "output_type": "display_data"
    }
   ],
   "source": [
    "# Plotting tools\n",
    "import matplotlib.pyplot as plt\n",
    "%matplotlib inline\n",
    "plt.figure(figsize=(8,2))\n",
    "plt.xlabel('Value vs Seasonality')\n",
    "\n",
    "ax1 = ti.Season.plot(color='red', grid=False, label='Seasonality')\n",
    "ax2 = ti.Value.plot(color='blue', grid=False, secondary_y=True, label='Value')\n",
    "\n",
    "h1, l1 = ax1.get_legend_handles_labels()\n",
    "h2, l2 = ax2.get_legend_handles_labels()\n",
    "\n",
    "\n",
    "plt.legend(h1+h2, l1+l2, loc=2)\n",
    "plt.show()\n",
    "#############################################################################################\n",
    "plt.figure(figsize=(8,2))\n",
    "plt.xlabel('Seasonality vs Precipitation')\n",
    "\n",
    "ax1 = ti.Value.plot(color='blue', grid=False, label='Value')\n",
    "ax2 = ti['Precipitation (mm)'].plot(color='green', grid=False, secondary_y=True, label='Value')\n",
    "\n",
    "h1, l1 = ax1.get_legend_handles_labels()\n",
    "h2, l2 = ax2.get_legend_handles_labels()\n",
    "\n",
    "\n",
    "plt.legend(h1+h2, l1+l2, loc=2)\n",
    "plt.show()\n",
    "#############################################################################################\n",
    "plt.figure(figsize=(8,2))\n",
    "plt.xlabel('Seasonality vs Precipitation')\n",
    "\n",
    "ax1 = ti.Value.plot(color='blue', grid=False, label='Value')\n",
    "ax2 = ti['Inflation Data'].plot(color='yellow', grid=False, secondary_y=True, label='Value')\n",
    "\n",
    "h1, l1 = ax1.get_legend_handles_labels()\n",
    "h2, l2 = ax2.get_legend_handles_labels()\n",
    "\n",
    "\n",
    "plt.legend(h1+h2, l1+l2, loc=2)\n",
    "plt.show()\n"
   ]
  },
  {
   "cell_type": "code",
   "execution_count": null,
   "metadata": {},
   "outputs": [],
   "source": []
  },
  {
   "cell_type": "code",
   "execution_count": null,
   "metadata": {},
   "outputs": [],
   "source": []
  },
  {
   "cell_type": "code",
   "execution_count": null,
   "metadata": {},
   "outputs": [],
   "source": []
  }
 ],
 "metadata": {
  "kernelspec": {
   "display_name": "Python 3.9.13 ('venv': venv)",
   "language": "python",
   "name": "python3"
  },
  "language_info": {
   "codemirror_mode": {
    "name": "ipython",
    "version": 3
   },
   "file_extension": ".py",
   "mimetype": "text/x-python",
   "name": "python",
   "nbconvert_exporter": "python",
   "pygments_lexer": "ipython3",
   "version": "3.9.13"
  },
  "orig_nbformat": 4,
  "vscode": {
   "interpreter": {
    "hash": "d8a0c9fd230fdcac957bf1b1770c10fc63f9a7df5363a223159fc81db16be234"
   }
  }
 },
 "nbformat": 4,
 "nbformat_minor": 2
}
